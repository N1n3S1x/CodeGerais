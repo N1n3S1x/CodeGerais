{
  "nbformat": 4,
  "nbformat_minor": 0,
  "metadata": {
    "colab": {
      "provenance": []
    },
    "kernelspec": {
      "name": "python3",
      "display_name": "Python 3"
    },
    "language_info": {
      "name": "python"
    }
  },
  "cells": [
    {
      "cell_type": "code",
      "execution_count": 4,
      "metadata": {
        "id": "BnILRAbOlYDa"
      },
      "outputs": [],
      "source": [
        "import openpyxl\n",
        "\n",
        "#arquivo = openpyxl.load_workbook (f'/Formulário sus (respostas).xlsx')\n",
        "#ws = arquivo.active\n",
        "\n",
        "# Substitua 'arquivo.xlsx' pelo nome do seu arquivo\n",
        "workbook = openpyxl.load_workbook(f'/Formulário sus (respostas).xlsx')\n",
        "\n",
        "# Acesse a planilha ativa (primeira planilha por padrão)\n",
        "worksheet = workbook.active\n",
        "\n",
        "# Ou acesse uma planilha específica pelo nome\n",
        "#worksheet = workbook['NomeDaPlanilha1']\n",
        "\n"
      ]
    },
    {
      "cell_type": "code",
      "source": [
        "dicionario_Usu = {}\n",
        "acumul = 0\n",
        "for usuario in range (2,18):\n",
        "  acumul += 1\n",
        "  #print(f\"usuario N{acumul}\")\n",
        "  for row in worksheet.iter_rows(min_row = usuario, max_row= usuario, min_col=3, max_col=12, values_only= True):\n",
        "\n",
        "    #armazenado em um Dicionario\n",
        "    dicionario_Usu[f'usuario{acumul}']= row\n",
        "\n",
        "\n",
        "for usuario, valores in dicionario_Usu.items():\n",
        "     print(f\"{usuario}: valores{valores}\")\n",
        "\n"
      ],
      "metadata": {
        "colab": {
          "base_uri": "https://localhost:8080/"
        },
        "id": "cZuDClNko17l",
        "outputId": "f76b739d-2017-4f2d-d07d-8209cb354d94"
      },
      "execution_count": 87,
      "outputs": [
        {
          "output_type": "stream",
          "name": "stdout",
          "text": [
            "usuario1: valores(3, 3, 2, 2, 3, 3, 2, 2, 1, 1)\n",
            "usuario2: valores(3, 3, 4, 3, 4, 1, 1, 3, 4, 4)\n",
            "usuario3: valores(5, 1, 5, 4, 5, 1, 1, 1, 1, 1)\n",
            "usuario4: valores(3, 5, 1, 5, 1, 4, 5, 5, 3, 2)\n",
            "usuario5: valores(2, 1, 1, 1, 1, 5, 1, 1, 1, 1)\n",
            "usuario6: valores(5, 1, 5, 1, 5, 1, 1, 1, 5, 5)\n",
            "usuario7: valores(1, 5, 3, 4, 1, 5, 4, 4, 2, 3)\n",
            "usuario8: valores(1, 1, 5, 1, 5, 1, 1, 1, 5, 3)\n",
            "usuario9: valores(2, 1, 5, 1, 4, 2, 1, 1, 5, 4)\n",
            "usuario10: valores(5, 4, 5, 4, 1, 2, 1, 2, 3, 4)\n",
            "usuario11: valores(4, 2, 4, 1, 4, 1, 1, 1, 5, 5)\n",
            "usuario12: valores(1, 1, 5, 1, 5, 2, 1, 1, 5, 5)\n",
            "usuario13: valores(5, 1, 5, 1, 5, 1, 1, 1, 5, 5)\n",
            "usuario14: valores(3, 5, 1, 5, 1, 4, 4, 5, 1, 1)\n",
            "usuario15: valores(3, 1, 4, 2, 3, 2, 3, 2, 5, 4)\n",
            "usuario16: valores(3, 1, 5, 1, 2, 1, 1, 1, 4, 4)\n",
            "{'usuario1': (3, 3, 2, 2, 3, 3, 2, 2, 1, 1), 'usuario2': (3, 3, 4, 3, 4, 1, 1, 3, 4, 4), 'usuario3': (5, 1, 5, 4, 5, 1, 1, 1, 1, 1), 'usuario4': (3, 5, 1, 5, 1, 4, 5, 5, 3, 2), 'usuario5': (2, 1, 1, 1, 1, 5, 1, 1, 1, 1), 'usuario6': (5, 1, 5, 1, 5, 1, 1, 1, 5, 5), 'usuario7': (1, 5, 3, 4, 1, 5, 4, 4, 2, 3), 'usuario8': (1, 1, 5, 1, 5, 1, 1, 1, 5, 3), 'usuario9': (2, 1, 5, 1, 4, 2, 1, 1, 5, 4), 'usuario10': (5, 4, 5, 4, 1, 2, 1, 2, 3, 4), 'usuario11': (4, 2, 4, 1, 4, 1, 1, 1, 5, 5), 'usuario12': (1, 1, 5, 1, 5, 2, 1, 1, 5, 5), 'usuario13': (5, 1, 5, 1, 5, 1, 1, 1, 5, 5), 'usuario14': (3, 5, 1, 5, 1, 4, 4, 5, 1, 1), 'usuario15': (3, 1, 4, 2, 3, 2, 3, 2, 5, 4), 'usuario16': (3, 1, 5, 1, 2, 1, 1, 1, 4, 4)}\n"
          ]
        }
      ]
    },
    {
      "cell_type": "code",
      "source": [
        "def Calcular(usuario):\n",
        "  dic_Usu = {}\n",
        "  dic_Usu2 = {}\n",
        "  dic_questoes = {}\n",
        "  armazenarValor = []\n",
        "  somaPares = 0\n",
        "  somaImpares = 0\n",
        "  quest = 0\n",
        "\n",
        "  dic_resposta2 ={\n",
        "      'Concordo Totalmente' : 5,\n",
        "      'Concordo':4,\n",
        "      'Neutro': 3,\n",
        "      'Discordo':2,\n",
        "      'Discordo Totalmente':1,\n",
        "  }\n",
        "\n",
        "  dic_resposta = {\n",
        "\n",
        "      1: 1,\n",
        "      2: 2,\n",
        "      3: 3,\n",
        "      4: 4,\n",
        "      5: 5,\n",
        "  }\n",
        "  valor = dicionario_Usu.get(usuario)\n",
        "\n",
        "  # Verifica se valor é None e lida com o caso\n",
        "  #if valor is None:\n",
        "   # print(f\"Aviso: Nenhum dado encontrado para {usuario}\") # Informa o usuário sobre a chave ausente\n",
        "    #return 0  # Ou qualquer outro valor padrão apropriado\n",
        "\n",
        "\n",
        "\n",
        "  #print(valor)\n",
        "  keys2 = list(dic_resposta.values())\n",
        "\n",
        "  for indiceValor in range(0,10):\n",
        "    quest = indiceValor\n",
        "    for key in keys2:\n",
        "\n",
        "      if  valor[indiceValor] == key:\n",
        "\n",
        "        dic_questoes[f'{quest+1}'] = valor[indiceValor]\n",
        "\n",
        "  keys = list(dic_questoes.keys())\n",
        "\n",
        "\n",
        "  #print(keys,\"Keys\")\n",
        "\n",
        "  for key in keys:\n",
        "    if int(key) % 2 == 0:\n",
        "\n",
        "      calculo = 5 - int(dic_questoes[f'{key}'])\n",
        "\n",
        "      somaPares += calculo\n",
        "\n",
        "\n",
        "    else:\n",
        "      calculo = int(dic_questoes[f'{key}']) - 1\n",
        "\n",
        "      #print(\"dic quest impares\",dic_questoes[f'{key}'])\n",
        "      somaImpares += calculo\n",
        "  total = (somaPares + somaImpares)*2.5\n",
        "\n",
        "\n",
        "  #print(f\"Procentagem de satisfação do Usuario = {total}%\")\n",
        "  #print(keys)\n",
        "  return total\n",
        "  #print(dic_questoes)\n",
        "  #print(valor)\n",
        "Calcular('usuario14')"
      ],
      "metadata": {
        "id": "f8aMxFmSERlt",
        "colab": {
          "base_uri": "https://localhost:8080/"
        },
        "outputId": "c5701275-f313-4787-ca64-9dc6187bb3a7"
      },
      "execution_count": 128,
      "outputs": [
        {
          "output_type": "execute_result",
          "data": {
            "text/plain": [
              "25.0"
            ]
          },
          "metadata": {},
          "execution_count": 128
        }
      ]
    },
    {
      "cell_type": "code",
      "source": [
        "#print(dicionario_Usu)\n",
        "mediaSus = 0\n",
        "lsitadecadausu = []\n",
        "dic_resul = {}\n",
        "chaves_usu = list(dicionario_Usu.keys())\n",
        "for numUsu in range(len(chaves_usu)):\n",
        "  usuario = chaves_usu[numUsu]\n",
        "\n",
        "\n",
        "  dic_resul[f'usuario{numUsu}'] = Calcular(usuario)\n",
        "\n",
        "\n",
        "  lsitadecadausu.append(Calcular(usuario))\n",
        "\n",
        "\n",
        "\n",
        "for chave in dic_resul:\n",
        "  calc = dic_resul[f\"{chave}\"]\n",
        "  mediaSus += calc\n",
        "mediaSus = mediaSus/16\n",
        "#print(dic_resul)\n",
        "#\n",
        "\n",
        "print(f'Avaliação geral de satisfação do Site {mediaSus:0.02f}%')\n",
        "print(lsitadecadausu)"
      ],
      "metadata": {
        "colab": {
          "base_uri": "https://localhost:8080/"
        },
        "id": "QsQe5BwFvVsB",
        "outputId": "a53291fe-cb98-41a3-e63e-11dc20790453",
        "collapsed": true
      },
      "execution_count": 130,
      "outputs": [
        {
          "output_type": "stream",
          "name": "stdout",
          "text": [
            "Avaliação geral de satisfação do Site 57.81%\n",
            "[50.0, 55.0, 72.5, 30.0, 42.5, 80.0, 25.0, 75.0, 70.0, 47.5, 70.0, 67.5, 80.0, 25.0, 67.5, 67.5]\n"
          ]
        }
      ]
    },
    {
      "cell_type": "code",
      "source": [
        "\n",
        "#worksheet.title = 'planilha2jc'\n",
        "#for chave in dic_resul:\n",
        " # for x in range(3,12):\n",
        "  #  for y in range(19,20):\n",
        "   #   worksheet.cell(row=x,col=y,value=dic_resul[f'{chave}'])\n"
      ],
      "metadata": {
        "id": "zCss-WkDTPul"
      },
      "execution_count": null,
      "outputs": []
    },
    {
      "cell_type": "code",
      "source": [],
      "metadata": {
        "id": "duzlnVpptWis"
      },
      "execution_count": null,
      "outputs": []
    }
  ]
}